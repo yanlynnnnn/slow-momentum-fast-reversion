{
 "cells": [
  {
   "cell_type": "code",
   "execution_count": 35,
   "id": "induced-island",
   "metadata": {},
   "outputs": [],
   "source": [
    "import torch\n",
    "from torch.autograd import Variable \n",
    "from torch.utils.data import DataLoader, TensorDataset\n",
    "from torchinfo import summary\n",
    "import torch.nn as nn\n",
    "from torch.nn.utils import clip_grad_norm\n",
    "import torch.nn.functional as F\n",
    "import numpy as np"
   ]
  },
  {
   "cell_type": "code",
   "execution_count": 17,
   "id": "injured-expert",
   "metadata": {},
   "outputs": [],
   "source": [
    "# Set seeds\n",
    "seed = 100\n",
    "torch.manual_seed(seed)\n",
    "np.random.seed(seed)"
   ]
  },
  {
   "cell_type": "code",
   "execution_count": 30,
   "id": "understanding-bulgarian",
   "metadata": {},
   "outputs": [],
   "source": [
    "class LSTM(nn.Module):\n",
    "    def __init__(self, num_classes, input_size, hidden_size, num_layers, seq_length, dropout):\n",
    "        super(LSTM, self).__init__()\n",
    "        \n",
    "        self.num_classes = num_classes\n",
    "        self.input_size = input_size\n",
    "        self.hidden_size = hidden_size\n",
    "        self.num_layers = num_layers\n",
    "        self.seq_length = seq_length\n",
    "        \n",
    "        self.lstm = nn.LSTM(input_size=input_size, hidden_size=hidden_size,\n",
    "                          num_layers=num_layers, batch_first=True, dropout=dropout)\n",
    "        \n",
    "        self.fc = nn.Linear(hidden_size, num_classes)\n",
    "        self.tanh = nn.Tanh()\n",
    "        self.dropout = nn.Dropout(dropout)\n",
    "        \n",
    "    def forward(self, x):\n",
    "        h0 = Variable(torch.zeros(self.num_layers, x.size(0), self.hidden_size)) \n",
    "        c0 = Variable(torch.zeros(self.num_layers, x.size(0), self.hidden_size)) \n",
    "        \n",
    "        output, (h1, c1) = self.lstm(x, (h0, c0))\n",
    "        h1 = h1.view(-1, self.hidden_size)\n",
    "        result = self.tanh(h1)\n",
    "        result = self.fc(result)\n",
    "        result = self.tanh(result)\n",
    "        \n",
    "        return result"
   ]
  },
  {
   "cell_type": "code",
   "execution_count": 36,
   "id": "light-click",
   "metadata": {},
   "outputs": [],
   "source": [
    "epochs = 20\n",
    "\n",
    "num_classes = 1 # number of output classes\n",
    "input_size = 4 # number of features: MACD, normalized returns, changepoint location, changepoint severity\n",
    "hidden_size = 5 # range given: 5, 10, 20, 40, 80, 160\n",
    "num_layers = 1 # number of lstm layers\n",
    "seq_length = 1\n",
    "dropout = 0.1 # range given 0.1-0.5\n",
    "batch_size = 64 # range given: 64, 128, 256\n",
    "\n",
    "learning_rate = 0.01 # range given: 10^-4 - 10^-1\n",
    "\n",
    "max_norm = 0.01 # range is 100, 0, 0.01"
   ]
  },
  {
   "cell_type": "code",
   "execution_count": 34,
   "id": "atomic-bobby",
   "metadata": {},
   "outputs": [
    {
     "data": {
      "text/plain": [
       "==========================================================================================\n",
       "Layer (type:depth-idx)                   Output Shape              Param #\n",
       "==========================================================================================\n",
       "LSTM                                     --                        --\n",
       "├─LSTM: 1-1                              [64, 1, 5]                220\n",
       "├─Tanh: 1-2                              [64, 5]                   --\n",
       "├─Linear: 1-3                            [64, 1]                   6\n",
       "├─Dropout: 1-4                           --                        --\n",
       "├─Tanh: 1-5                              [64, 1]                   --\n",
       "==========================================================================================\n",
       "Total params: 226\n",
       "Trainable params: 226\n",
       "Non-trainable params: 0\n",
       "Total mult-adds (M): 0.01\n",
       "==========================================================================================\n",
       "Input size (MB): 0.00\n",
       "Forward/backward pass size (MB): 0.00\n",
       "Params size (MB): 0.00\n",
       "Estimated Total Size (MB): 0.01\n",
       "=========================================================================================="
      ]
     },
     "execution_count": 34,
     "metadata": {},
     "output_type": "execute_result"
    }
   ],
   "source": [
    "model = LSTM(num_classes, input_size, hidden_size, num_layers, seq_length, dropout)\n",
    "summary(model, input_size=(batch_size,1,4))"
   ]
  },
  {
   "cell_type": "code",
   "execution_count": 15,
   "id": "threatened-manor",
   "metadata": {},
   "outputs": [],
   "source": [
    "# Daily normalized returns dataframe not created yet\n",
    "\n",
    "def sharpe_loss(normalized_returns, output):\n",
    "    output = Variable(output)\n",
    "    model_returns = torch.sum(torch.multiply(normalized_returns, output)) \n",
    "    loss = -1 * torch.sqrt(252) * torch.mean(model_returns) / torch.std(model_returns)\n",
    "    return loss"
   ]
  },
  {
   "cell_type": "code",
   "execution_count": 37,
   "id": "developmental-mineral",
   "metadata": {},
   "outputs": [],
   "source": [
    "optimizer = torch.optim.Adam(lstm.parameters(), lr=learning_rate) "
   ]
  },
  {
   "cell_type": "code",
   "execution_count": 38,
   "id": "possible-cabinet",
   "metadata": {},
   "outputs": [],
   "source": [
    "def train(train_loader):\n",
    "    for epoch in range(epochs):\n",
    "        for x_batch, y_batch in train_loader:\n",
    "            output = model.forward(x_batch)\n",
    "            \n",
    "            optimizer.zero_grad()\n",
    "            loss = sharpe_loss(normalized_returns, output)\n",
    "            loss.backward()\n",
    "            \n",
    "            clip_grad_norm(model.parameters(), max_norm)\n",
    "            optimizer.step()\n",
    "            \n",
    "        print(\"Epoch: %d, loss: %1.5f\" % (epoch, loss.item()))\n",
    "    return model"
   ]
  },
  {
   "cell_type": "code",
   "execution_count": 39,
   "id": "flying-nurse",
   "metadata": {},
   "outputs": [],
   "source": [
    "def main():\n",
    "    X_train = torch.stack([torch.from_numpy(np.array(i)) for i in X_train])\n",
    "    y_train = torch.stack([torch.from_numpy(np.array(i)) for i in y_train])\n",
    "    \n",
    "    train_dataset = TensorDataset(X_train, y_train)\n",
    "    train_loader = DataLoader(train_dataset, batch_size=batch_size, shuffle=False)\n",
    "    \n",
    "    trained_model = train(train_loader)"
   ]
  },
  {
   "cell_type": "code",
   "execution_count": null,
   "id": "stable-scroll",
   "metadata": {},
   "outputs": [],
   "source": []
  }
 ],
 "metadata": {
  "kernelspec": {
   "display_name": "Python 3",
   "language": "python",
   "name": "python3"
  },
  "language_info": {
   "codemirror_mode": {
    "name": "ipython",
    "version": 3
   },
   "file_extension": ".py",
   "mimetype": "text/x-python",
   "name": "python",
   "nbconvert_exporter": "python",
   "pygments_lexer": "ipython3",
   "version": "3.9.4"
  }
 },
 "nbformat": 4,
 "nbformat_minor": 5
}
